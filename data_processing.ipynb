{
 "cells": [
  {
   "cell_type": "markdown",
   "metadata": {},
   "source": [
    "pip install pandas"
   ]
  },
  {
   "cell_type": "code",
   "execution_count": 16,
   "metadata": {},
   "outputs": [
    {
     "name": "stdout",
     "output_type": "stream",
     "text": [
      "📝 Original Data Overview:\n",
      "<class 'pandas.core.frame.DataFrame'>\n",
      "RangeIndex: 50 entries, 0 to 49\n",
      "Data columns (total 6 columns):\n",
      " #   Column           Non-Null Count  Dtype \n",
      "---  ------           --------------  ----- \n",
      " 0   Word             50 non-null     object\n",
      " 1   Part of Speech   49 non-null     object\n",
      " 2   Dark Text        50 non-null     object\n",
      " 3   Description      50 non-null     object\n",
      " 4   Additional Info  47 non-null     object\n",
      " 5   Update Date      37 non-null     object\n",
      "dtypes: object(6)\n",
      "memory usage: 2.5+ KB\n",
      "None\n"
     ]
    }
   ],
   "source": [
    "import pandas as pd\n",
    "\n",
    "# Load the CSV file\n",
    "csv_file = \"lithuanian_words_1page.csv\"\n",
    "df = pd.read_csv(csv_file)\n",
    "\n",
    "# Display basic info about the dataset\n",
    "print(\"📝 Original Data Overview:\")\n",
    "print(df.info())"
   ]
  },
  {
   "cell_type": "code",
   "execution_count": 26,
   "metadata": {},
   "outputs": [
    {
     "data": {
      "text/html": [
       "<div>\n",
       "<style scoped>\n",
       "    .dataframe tbody tr th:only-of-type {\n",
       "        vertical-align: middle;\n",
       "    }\n",
       "\n",
       "    .dataframe tbody tr th {\n",
       "        vertical-align: top;\n",
       "    }\n",
       "\n",
       "    .dataframe thead th {\n",
       "        text-align: right;\n",
       "    }\n",
       "</style>\n",
       "<table border=\"1\" class=\"dataframe\">\n",
       "  <thead>\n",
       "    <tr style=\"text-align: right;\">\n",
       "      <th></th>\n",
       "      <th>Word</th>\n",
       "      <th>Part of Speech</th>\n",
       "      <th>Dark Text</th>\n",
       "      <th>Description</th>\n",
       "      <th>Additional Info</th>\n",
       "      <th>Update Date</th>\n",
       "    </tr>\n",
       "  </thead>\n",
       "  <tbody>\n",
       "    <tr>\n",
       "      <th>0</th>\n",
       "      <td>a1</td>\n",
       "      <td>♦</td>\n",
       "      <td>a</td>\n",
       "      <td>rasti, galva, kas; meta, gale |  lapė, matė |...</td>\n",
       "      <td>raidė, vartojama žymėti užpakalinės eilės žemu...</td>\n",
       "      <td>Atnaujinta: 2024-07-19</td>\n",
       "    </tr>\n",
       "    <tr>\n",
       "      <th>1</th>\n",
       "      <td>a2</td>\n",
       "      <td>jst.</td>\n",
       "      <td>ã</td>\n",
       "      <td>Ã, kai̇̃p šálta! Ã, prisi̇̀menu, prisi̇̀me...</td>\n",
       "      <td>(ir tęsiamai) vartojamas reiškiant nusistebėji...</td>\n",
       "      <td>Atnaujinta: 2021-10-27</td>\n",
       "    </tr>\n",
       "    <tr>\n",
       "      <th>2</th>\n",
       "      <td>a3</td>\n",
       "      <td>jst.</td>\n",
       "      <td>à</td>\n",
       "      <td>À, kai̇̃p tù mán nusibódai. À, tiẽk tõ...</td>\n",
       "      <td>vartojamas reiškiant nekantrumą, nepasitenkini...</td>\n",
       "      <td>NaN</td>\n",
       "    </tr>\n",
       "    <tr>\n",
       "      <th>3</th>\n",
       "      <td>a-</td>\n",
       "      <td>priešd.</td>\n",
       "      <td>a-</td>\n",
       "      <td>aritmija, asimetrija, ateizmas, apolitiškas, ...</td>\n",
       "      <td>tarptautinė žodžio dalis, reiškianti ko neigim...</td>\n",
       "      <td>Atnaujinta: 2023-05-12</td>\n",
       "    </tr>\n",
       "    <tr>\n",
       "      <th>4</th>\n",
       "      <td>ą</td>\n",
       "      <td>NaN</td>\n",
       "      <td>ą</td>\n",
       "      <td>kąsti, šąla, ką; ranką, žąsis |  „Ą, ą“ yrà ...</td>\n",
       "      <td>raidė, vartojama žymėti užpakalinės eilės žemu...</td>\n",
       "      <td>NaN</td>\n",
       "    </tr>\n",
       "  </tbody>\n",
       "</table>\n",
       "</div>"
      ],
      "text/plain": [
       "  Word Part of Speech Dark Text  \\\n",
       "0   a1              ♦         a   \n",
       "1   a2           jst.        ã   \n",
       "2   a3           jst.        à   \n",
       "3   a-        priešd.        a-   \n",
       "4    ą            NaN         ą   \n",
       "\n",
       "                                         Description  \\\n",
       "0   rasti, galva, kas; meta, gale |  lapė, matė |...   \n",
       "1   Ã, kai̇̃p šálta! Ã, prisi̇̀menu, prisi̇̀me...   \n",
       "2   À, kai̇̃p tù mán nusibódai. À, tiẽk tõ...   \n",
       "3   aritmija, asimetrija, ateizmas, apolitiškas, ...   \n",
       "4   kąsti, šąla, ką; ranką, žąsis |  „Ą, ą“ yrà ...   \n",
       "\n",
       "                                     Additional Info             Update Date  \n",
       "0  raidė, vartojama žymėti užpakalinės eilės žemu...  Atnaujinta: 2024-07-19  \n",
       "1  (ir tęsiamai) vartojamas reiškiant nusistebėji...  Atnaujinta: 2021-10-27  \n",
       "2  vartojamas reiškiant nekantrumą, nepasitenkini...                     NaN  \n",
       "3  tarptautinė žodžio dalis, reiškianti ko neigim...  Atnaujinta: 2023-05-12  \n",
       "4  raidė, vartojama žymėti užpakalinės eilės žemu...                     NaN  "
      ]
     },
     "metadata": {},
     "output_type": "display_data"
    }
   ],
   "source": [
    "from IPython.display import display\n",
    "display(df.head())"
   ]
  }
 ],
 "metadata": {
  "kernelspec": {
   "display_name": "base",
   "language": "python",
   "name": "python3"
  },
  "language_info": {
   "codemirror_mode": {
    "name": "ipython",
    "version": 3
   },
   "file_extension": ".py",
   "mimetype": "text/x-python",
   "name": "python",
   "nbconvert_exporter": "python",
   "pygments_lexer": "ipython3",
   "version": "3.9.20"
  }
 },
 "nbformat": 4,
 "nbformat_minor": 2
}
