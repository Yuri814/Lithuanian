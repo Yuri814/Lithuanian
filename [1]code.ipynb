{
 "cells": [
  {
   "cell_type": "code",
   "execution_count": 2,
   "id": "45e5dcf6",
   "metadata": {},
   "outputs": [
    {
     "name": "stdout",
     "output_type": "stream",
     "text": [
      "northeuralex\\cldf\\forms.csv\n"
     ]
    }
   ],
   "source": [
    "#https://github.com/lexibank/northeuralex 연결\n",
    "\n",
    "#bash or terminal에서 실행\n",
    "#pip install gitpython pandas\n",
    "\n",
    "#위 github에서 파일/데이터 보기\n",
    "import git\n",
    "import pandas as pd\n",
    "import os\n",
    "\n",
    "# GitHub에서 프로젝트 복제할 폴더\n",
    "repo_dir = \"northeuralex\"\n",
    "if not os.path.exists(repo_dir):\n",
    "    git.Repo.clone_from(\"https://github.com/lexibank/northeuralex.git\", repo_dir)\n",
    "\n",
    "# CSV 파일 경로\n",
    "csv_path = os.path.join(repo_dir, \"cldf\", \"forms.csv\")\n",
    "\n",
    "# CSV 파일 읽기\n",
    "df = pd.read_csv(csv_path)\n",
    "print(csv_path)\n",
    "#print(df[['Form', 'Parameter_ID', 'Segments']].head()) #특정 열만\n"
   ]
  },
  {
   "cell_type": "code",
   "execution_count": 8,
   "id": "cdd3ac3a",
   "metadata": {},
   "outputs": [],
   "source": [
    "#각 분절음의 빈도수 추출\n",
    "\n",
    "import pandas as pd\n",
    "\n",
    "# with_structure_strv.csv 로드\n",
    "strv_df = pd.read_csv(r\"C:\\thesis\\Lithuanian\\with_structure_strv.csv\")\n",
    "\n",
    "# Segments 열에서 모든 분절음 추출\n",
    "segments_series = strv_df['Segments'].dropna().apply(lambda x: x.split())\n",
    "\n",
    "# 하나의 리스트로 평탄화\n",
    "all_segments = [seg for sublist in segments_series for seg in sublist]\n",
    "\n",
    "# 분절음 종류별 빈도수 계산\n",
    "segment_counts = pd.Series(all_segments).value_counts().reset_index()\n",
    "segment_counts.columns = ['Segment', 'Frequency']\n",
    "\n",
    "# 결과 저장\n",
    "output_path_simple = r\"C:\\thesis\\Lithuanian\\segment_frequencies.csv\"\n",
    "segment_counts.to_csv(output_path_simple, index=False)\n"
   ]
  },
  {
   "cell_type": "code",
   "execution_count": null,
   "id": "21ae2ec0",
   "metadata": {},
   "outputs": [],
   "source": [
    "#segment를 음절구조(STRV), 자음모음구조(CV)로 대응시킨 열 추가\n",
    "\n",
    "import pandas as pd\n",
    "\n",
    "# 로컬 파일 경로\n",
    "seg_freq_path = r\"C:\\thesis\\Lithuanian\\segment_frequencies.csv\"\n",
    "strv_data_path = r\"C:\\thesis\\Lithuanian\\with_structure_strv.csv\"\n",
    "\n",
    "# CSV 불러오기\n",
    "seg_freq_df = pd.read_csv(seg_freq_path)\n",
    "strv_df = pd.read_csv(strv_data_path)\n",
    "\n",
    "# 딕셔너리 생성\n",
    "structure_map = dict(zip(seg_freq_df['Segment'], seg_freq_df['Structure']))\n",
    "convo_map = dict(zip(seg_freq_df['Segment'], seg_freq_df['ConVo']))\n",
    "\n",
    "# 매핑 함수 정의\n",
    "def map_structure(segment_str):\n",
    "    segments = segment_str.split()\n",
    "    return ' '.join([structure_map.get(seg, '?') for seg in segments])\n",
    "\n",
    "def map_convo(segment_str):\n",
    "    segments = segment_str.split()\n",
    "    return ' '.join([convo_map.get(seg, '?') for seg in segments])\n",
    "\n",
    "# 새로운 열 추가\n",
    "strv_df['SegmentStructure'] = strv_df['Segments'].apply(map_structure)\n",
    "strv_df['ConVoStructure'] = strv_df['Segments'].apply(map_convo)\n",
    "\n",
    "# 결과 저장\n",
    "output_path = r\"C:\\thesis\\Lithuanian\\[rev]with_structure_strv.csv\"\n",
    "strv_df.to_csv(output_path, index=False)\n"
   ]
  }
 ],
 "metadata": {
  "kernelspec": {
   "display_name": "base",
   "language": "python",
   "name": "python3"
  },
  "language_info": {
   "codemirror_mode": {
    "name": "ipython",
    "version": 3
   },
   "file_extension": ".py",
   "mimetype": "text/x-python",
   "name": "python",
   "nbconvert_exporter": "python",
   "pygments_lexer": "ipython3",
   "version": "3.11.5"
  }
 },
 "nbformat": 4,
 "nbformat_minor": 5
}
