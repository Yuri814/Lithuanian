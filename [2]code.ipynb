{
 "cells": [
  {
   "cell_type": "code",
   "execution_count": null,
   "id": "1a50b0e0",
   "metadata": {},
   "outputs": [
    {
     "name": "stdout",
     "output_type": "stream",
     "text": [
      "This is test code\n"
     ]
    }
   ],
   "source": [
    "#어두(onset) 자음 클러스터 출현 빈도"
   ]
  },
  {
   "cell_type": "code",
   "execution_count": null,
   "id": "3846761e",
   "metadata": {},
   "outputs": [
    {
     "name": "stdout",
     "output_type": "stream",
     "text": [
      "3\n"
     ]
    }
   ],
   "source": [
    "#어말(coda) 자음 클러스터 출현 빈도"
   ]
  },
  {
   "cell_type": "code",
   "execution_count": null,
   "id": "21f5b9a4",
   "metadata": {},
   "outputs": [],
   "source": []
  }
 ],
 "metadata": {
  "kernelspec": {
   "display_name": "python3_12_1",
   "language": "python",
   "name": "py3_12_1"
  },
  "language_info": {
   "codemirror_mode": {
    "name": "ipython",
    "version": 3
   },
   "file_extension": ".py",
   "mimetype": "text/x-python",
   "name": "python",
   "nbconvert_exporter": "python",
   "pygments_lexer": "ipython3",
   "version": "3.12.2"
  }
 },
 "nbformat": 4,
 "nbformat_minor": 5
}
