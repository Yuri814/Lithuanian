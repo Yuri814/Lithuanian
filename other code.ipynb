{
 "cells": [
  {
   "cell_type": "code",
   "execution_count": 5,
   "id": "7584341b",
   "metadata": {},
   "outputs": [
    {
     "name": "stdout",
     "output_type": "stream",
     "text": [
      "dev\\data\\phoible.csv\n"
     ]
    },
    {
     "name": "stderr",
     "output_type": "stream",
     "text": [
      "C:\\Users\\JeongYuri\\AppData\\Local\\Temp\\ipykernel_16556\\316624211.py:20: DtypeWarning: Columns (4,7,8,11) have mixed types. Specify dtype option on import or set low_memory=False.\n",
      "  df = pd.read_csv(csv_path)\n"
     ]
    }
   ],
   "source": [
    "#https://github.com/phoible/dev 연결\n",
    "\n",
    "#bash or terminal에서 실행\n",
    "#pip install gitpython pandas\n",
    "\n",
    "#위 github에서 파일/데이터 보기\n",
    "import git\n",
    "import pandas as pd\n",
    "import os\n",
    "\n",
    "# GitHub에서 프로젝트 복제할 폴더\n",
    "repo_dir = \"dev\"\n",
    "if not os.path.exists(repo_dir):\n",
    "    git.Repo.clone_from(\"https://github.com/phoible/dev.git\", repo_dir)\n",
    "\n",
    "# CSV 파일 경로\n",
    "csv_path = os.path.join(repo_dir, \"data\", \"phoible.csv\")\n",
    "\n",
    "# CSV 파일 읽기\n",
    "df = pd.read_csv(csv_path)\n",
    "print(csv_path)\n"
   ]
  },
  {
   "cell_type": "code",
   "execution_count": null,
   "id": "95aeb8c5",
   "metadata": {},
   "outputs": [],
   "source": []
  }
 ],
 "metadata": {
  "kernelspec": {
   "display_name": "base",
   "language": "python",
   "name": "python3"
  },
  "language_info": {
   "codemirror_mode": {
    "name": "ipython",
    "version": 3
   },
   "file_extension": ".py",
   "mimetype": "text/x-python",
   "name": "python",
   "nbconvert_exporter": "python",
   "pygments_lexer": "ipython3",
   "version": "3.11.5"
  }
 },
 "nbformat": 4,
 "nbformat_minor": 5
}
